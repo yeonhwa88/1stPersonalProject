{
 "cells": [
  {
   "cell_type": "code",
   "execution_count": 1,
   "id": "db30d83a",
   "metadata": {},
   "outputs": [],
   "source": [
    "import numpy as np\n",
    "import pandas as pd"
   ]
  },
  {
   "cell_type": "code",
   "execution_count": 2,
   "id": "77adcf4e",
   "metadata": {},
   "outputs": [],
   "source": [
    "movies = pd.read_csv('../프로젝트csv/movie_df.csv')\n",
    "movie_naver = pd.read_csv('../프로젝트csv/네이버평점웹크롤링.csv')\n",
    "movie_cine21 = pd.read_csv('../프로젝트csv/씨네21평점웹크롤링.csv')"
   ]
  },
  {
   "cell_type": "code",
   "execution_count": 3,
   "id": "79829fc6",
   "metadata": {},
   "outputs": [
    {
     "name": "stdout",
     "output_type": "stream",
     "text": [
      "<class 'pandas.core.frame.DataFrame'>\n",
      "RangeIndex: 6043 entries, 0 to 6042\n",
      "Data columns (total 20 columns):\n",
      " #   Column                Non-Null Count  Dtype  \n",
      "---  ------                --------------  -----  \n",
      " 0   NO                    6043 non-null   int64  \n",
      " 1   MOVIE_NM              6043 non-null   object \n",
      " 2   DRCTR_NM              5173 non-null   object \n",
      " 3   MAKR_NM               2364 non-null   object \n",
      " 4   INCME_CMPNY_NM        3197 non-null   object \n",
      " 5   DISTB_CMPNY_NM        6043 non-null   object \n",
      " 6   OPN_DE                6041 non-null   object \n",
      " 7   MOVIE_TY_NM           6043 non-null   object \n",
      " 8   MOVIE_STLE_NM         6043 non-null   object \n",
      " 9   NLTY_NM               6043 non-null   object \n",
      " 10  TOT_SCRN_CO           5638 non-null   object \n",
      " 11  SALES_PRICE           2053 non-null   object \n",
      " 12  VIEWNG_NMPR_CO        4188 non-null   object \n",
      " 13  SEOUL_SALES_PRICE     2612 non-null   object \n",
      " 14  SEOUL_VIEWNG_NMPR_CO  4548 non-null   object \n",
      " 15  GENRE_NM              6029 non-null   object \n",
      " 16  GRAD_NM               6043 non-null   object \n",
      " 17  MOVIE_SDIV_NM         6043 non-null   object \n",
      " 18  네이버_평점                5479 non-null   float64\n",
      " 19  씨네21_평점               4731 non-null   float64\n",
      "dtypes: float64(2), int64(1), object(17)\n",
      "memory usage: 944.3+ KB\n"
     ]
    }
   ],
   "source": [
    "# 평점 컬럼명 추가\n",
    "movies['네이버_평점'] = np.nan\n",
    "movies['씨네21_평점'] = np.nan\n",
    "movies['네이버_평점'] = movie_naver['네이버_평점']\n",
    "movies['씨네21_평점'] = movie_cine21['씨네21_평점']\n",
    "movies.to_csv('../프로젝트csv/movies.csv', index=False, encoding='utf-8')\n",
    "movies.info()"
   ]
  },
  {
   "cell_type": "code",
   "execution_count": null,
   "id": "38e68a4b",
   "metadata": {},
   "outputs": [],
   "source": []
  }
 ],
 "metadata": {
  "kernelspec": {
   "display_name": "Python 3 (ipykernel)",
   "language": "python",
   "name": "python3"
  },
  "language_info": {
   "codemirror_mode": {
    "name": "ipython",
    "version": 3
   },
   "file_extension": ".py",
   "mimetype": "text/x-python",
   "name": "python",
   "nbconvert_exporter": "python",
   "pygments_lexer": "ipython3",
   "version": "3.10.9"
  },
  "toc": {
   "base_numbering": 1,
   "nav_menu": {},
   "number_sections": true,
   "sideBar": true,
   "skip_h1_title": false,
   "title_cell": "Table of Contents",
   "title_sidebar": "Contents",
   "toc_cell": false,
   "toc_position": {},
   "toc_section_display": true,
   "toc_window_display": false
  }
 },
 "nbformat": 4,
 "nbformat_minor": 5
}
