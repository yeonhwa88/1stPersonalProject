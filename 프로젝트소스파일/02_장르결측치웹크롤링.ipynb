{
 "cells": [
  {
   "cell_type": "code",
   "execution_count": 4,
   "id": "5782e52f",
   "metadata": {},
   "outputs": [],
   "source": [
    "import pandas as pd\n",
    "import numpy as np\n",
    "from selenium import webdriver\n",
    "from selenium.webdriver.common.by import By\n",
    "from selenium.webdriver.common.keys import Keys\n",
    "import time"
   ]
  },
  {
   "cell_type": "code",
   "execution_count": 10,
   "id": "06fb7adf",
   "metadata": {},
   "outputs": [],
   "source": [
    "movies = pd.read_csv('../프로젝트csv/movies.csv')"
   ]
  },
  {
   "cell_type": "code",
   "execution_count": 11,
   "id": "c6031d52",
   "metadata": {},
   "outputs": [],
   "source": [
    "def genre_nm_none_list(df):\n",
    "    title_list=[]\n",
    "    title_list.append(df.loc[df['GENRE_NM'].isna(), 'MOVIE_NM'].values)\n",
    "    return title_list"
   ]
  },
  {
   "cell_type": "code",
   "execution_count": 12,
   "id": "e527187f",
   "metadata": {},
   "outputs": [],
   "source": [
    "result_list = genre_nm_none_list(movies)\n",
    "movie_title = result_list[0].tolist()\n",
    "genre_lists = movies['GENRE_NM'].unique()"
   ]
  },
  {
   "cell_type": "code",
   "execution_count": 13,
   "id": "9346b10e",
   "metadata": {},
   "outputs": [],
   "source": [
    "# 동적 웹 크롤링으로 장르 받아오기 (naver)\n",
    "def naver_crawling_genre(genre_non_list):\n",
    "    dv = webdriver.Chrome()\n",
    "    dv.get('http://www.naver.com')\n",
    "    time.sleep(1.5)\n",
    "    el = dv.find_element(By.CSS_SELECTOR, 'input#query')\n",
    "    for title in genre_non_list :\n",
    "        el.clear()\n",
    "        el.send_keys('영화 {} 정보'.format(title))\n",
    "        el.send_keys(Keys.ENTER)\n",
    "        time.sleep(1.5)\n",
    "        genres = dv.find_elements(By.CSS_SELECTOR, 'div.info_group dd')[2]\n",
    "        el = dv.find_element(By.CSS_SELECTOR, 'input#nx_query')\n",
    "        genre = genres.text.split(', ')[0]\n",
    "        flag = True\n",
    "        for word in list(genre_lists):\n",
    "            if word==genre:\n",
    "                flag = False\n",
    "                break;\n",
    "        if(flag):\n",
    "            genre = np.nan\n",
    "        movies.loc[movies['MOVIE_NM']==title, 'GENRE_NM'] = genre\n",
    "        el.clear()\n",
    "    dv.close()"
   ]
  },
  {
   "cell_type": "code",
   "execution_count": 14,
   "id": "8f0b3846",
   "metadata": {},
   "outputs": [
    {
     "name": "stdout",
     "output_type": "stream",
     "text": [
      "<class 'pandas.core.frame.DataFrame'>\n",
      "RangeIndex: 6043 entries, 0 to 6042\n",
      "Data columns (total 20 columns):\n",
      " #   Column                Non-Null Count  Dtype  \n",
      "---  ------                --------------  -----  \n",
      " 0   NO                    6043 non-null   int64  \n",
      " 1   MOVIE_NM              6043 non-null   object \n",
      " 2   DRCTR_NM              5173 non-null   object \n",
      " 3   MAKR_NM               2364 non-null   object \n",
      " 4   INCME_CMPNY_NM        3197 non-null   object \n",
      " 5   DISTB_CMPNY_NM        6043 non-null   object \n",
      " 6   OPN_DE                6041 non-null   object \n",
      " 7   MOVIE_TY_NM           6043 non-null   object \n",
      " 8   MOVIE_STLE_NM         6043 non-null   object \n",
      " 9   NLTY_NM               6043 non-null   object \n",
      " 10  TOT_SCRN_CO           5638 non-null   object \n",
      " 11  SALES_PRICE           2053 non-null   object \n",
      " 12  VIEWNG_NMPR_CO        4188 non-null   object \n",
      " 13  SEOUL_SALES_PRICE     2612 non-null   object \n",
      " 14  SEOUL_VIEWNG_NMPR_CO  4548 non-null   object \n",
      " 15  GENRE_NM              6041 non-null   object \n",
      " 16  GRAD_NM               6043 non-null   object \n",
      " 17  MOVIE_SDIV_NM         6043 non-null   object \n",
      " 18  네이버_평점                2337 non-null   float64\n",
      " 19  씨네21_평점               1822 non-null   float64\n",
      "dtypes: float64(2), int64(1), object(17)\n",
      "memory usage: 944.3+ KB\n"
     ]
    }
   ],
   "source": [
    "naver_crawling_genre(movie_title)\n",
    "movies.to_csv('../프로젝트csv/장르웹크롤링.csv', index=False, encoding='utf-8')\n",
    "movies = pd.read_csv('../프로젝트csv/장르웹크롤링.csv')\n",
    "movies.info()"
   ]
  },
  {
   "cell_type": "code",
   "execution_count": null,
   "id": "b2e4fd6e",
   "metadata": {},
   "outputs": [],
   "source": []
  }
 ],
 "metadata": {
  "kernelspec": {
   "display_name": "Python 3 (ipykernel)",
   "language": "python",
   "name": "python3"
  },
  "language_info": {
   "codemirror_mode": {
    "name": "ipython",
    "version": 3
   },
   "file_extension": ".py",
   "mimetype": "text/x-python",
   "name": "python",
   "nbconvert_exporter": "python",
   "pygments_lexer": "ipython3",
   "version": "3.10.9"
  },
  "toc": {
   "base_numbering": 1,
   "nav_menu": {},
   "number_sections": true,
   "sideBar": true,
   "skip_h1_title": false,
   "title_cell": "Table of Contents",
   "title_sidebar": "Contents",
   "toc_cell": false,
   "toc_position": {},
   "toc_section_display": true,
   "toc_window_display": false
  }
 },
 "nbformat": 4,
 "nbformat_minor": 5
}
